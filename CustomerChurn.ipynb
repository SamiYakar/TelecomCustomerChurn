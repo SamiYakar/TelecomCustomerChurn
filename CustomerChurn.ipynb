{
 "cells": [
  {
   "cell_type": "code",
   "execution_count": 22,
   "metadata": {},
   "outputs": [],
   "source": [
    "import pandas as pd\n",
    "import numpy as np\n",
    "\n",
    "import matplotlib.pyplot as plt\n",
    "import seaborn as sns"
   ]
  },
  {
   "cell_type": "code",
   "execution_count": 36,
   "metadata": {},
   "outputs": [
    {
     "data": {
      "text/html": [
       "<div>\n",
       "<style scoped>\n",
       "    .dataframe tbody tr th:only-of-type {\n",
       "        vertical-align: middle;\n",
       "    }\n",
       "\n",
       "    .dataframe tbody tr th {\n",
       "        vertical-align: top;\n",
       "    }\n",
       "\n",
       "    .dataframe thead th {\n",
       "        text-align: right;\n",
       "    }\n",
       "</style>\n",
       "<table border=\"1\" class=\"dataframe\">\n",
       "  <thead>\n",
       "    <tr style=\"text-align: right;\">\n",
       "      <th></th>\n",
       "      <th>Call Failure</th>\n",
       "      <th>Complaints</th>\n",
       "      <th>Subscription Length</th>\n",
       "      <th>Charge Amount</th>\n",
       "      <th>Seconds of Use</th>\n",
       "      <th>Frequency of use</th>\n",
       "      <th>Frequency of SMS</th>\n",
       "      <th>Distinct Called Numbers</th>\n",
       "      <th>Age Group</th>\n",
       "      <th>Tariff Plan</th>\n",
       "      <th>Status</th>\n",
       "      <th>Age</th>\n",
       "      <th>Customer Value</th>\n",
       "      <th>Churn</th>\n",
       "    </tr>\n",
       "  </thead>\n",
       "  <tbody>\n",
       "    <tr>\n",
       "      <th>0</th>\n",
       "      <td>8</td>\n",
       "      <td>0</td>\n",
       "      <td>38</td>\n",
       "      <td>0</td>\n",
       "      <td>4370</td>\n",
       "      <td>71</td>\n",
       "      <td>5</td>\n",
       "      <td>17</td>\n",
       "      <td>3</td>\n",
       "      <td>1</td>\n",
       "      <td>1</td>\n",
       "      <td>30</td>\n",
       "      <td>197.640</td>\n",
       "      <td>0</td>\n",
       "    </tr>\n",
       "    <tr>\n",
       "      <th>1</th>\n",
       "      <td>0</td>\n",
       "      <td>0</td>\n",
       "      <td>39</td>\n",
       "      <td>0</td>\n",
       "      <td>318</td>\n",
       "      <td>5</td>\n",
       "      <td>7</td>\n",
       "      <td>4</td>\n",
       "      <td>2</td>\n",
       "      <td>1</td>\n",
       "      <td>2</td>\n",
       "      <td>25</td>\n",
       "      <td>46.035</td>\n",
       "      <td>0</td>\n",
       "    </tr>\n",
       "    <tr>\n",
       "      <th>2</th>\n",
       "      <td>10</td>\n",
       "      <td>0</td>\n",
       "      <td>37</td>\n",
       "      <td>0</td>\n",
       "      <td>2453</td>\n",
       "      <td>60</td>\n",
       "      <td>359</td>\n",
       "      <td>24</td>\n",
       "      <td>3</td>\n",
       "      <td>1</td>\n",
       "      <td>1</td>\n",
       "      <td>30</td>\n",
       "      <td>1536.520</td>\n",
       "      <td>0</td>\n",
       "    </tr>\n",
       "    <tr>\n",
       "      <th>3</th>\n",
       "      <td>10</td>\n",
       "      <td>0</td>\n",
       "      <td>38</td>\n",
       "      <td>0</td>\n",
       "      <td>4198</td>\n",
       "      <td>66</td>\n",
       "      <td>1</td>\n",
       "      <td>35</td>\n",
       "      <td>1</td>\n",
       "      <td>1</td>\n",
       "      <td>1</td>\n",
       "      <td>15</td>\n",
       "      <td>240.020</td>\n",
       "      <td>0</td>\n",
       "    </tr>\n",
       "    <tr>\n",
       "      <th>4</th>\n",
       "      <td>3</td>\n",
       "      <td>0</td>\n",
       "      <td>38</td>\n",
       "      <td>0</td>\n",
       "      <td>2393</td>\n",
       "      <td>58</td>\n",
       "      <td>2</td>\n",
       "      <td>33</td>\n",
       "      <td>1</td>\n",
       "      <td>1</td>\n",
       "      <td>1</td>\n",
       "      <td>15</td>\n",
       "      <td>145.805</td>\n",
       "      <td>0</td>\n",
       "    </tr>\n",
       "    <tr>\n",
       "      <th>5</th>\n",
       "      <td>11</td>\n",
       "      <td>0</td>\n",
       "      <td>38</td>\n",
       "      <td>1</td>\n",
       "      <td>3775</td>\n",
       "      <td>82</td>\n",
       "      <td>32</td>\n",
       "      <td>28</td>\n",
       "      <td>3</td>\n",
       "      <td>1</td>\n",
       "      <td>1</td>\n",
       "      <td>30</td>\n",
       "      <td>282.280</td>\n",
       "      <td>0</td>\n",
       "    </tr>\n",
       "    <tr>\n",
       "      <th>6</th>\n",
       "      <td>4</td>\n",
       "      <td>0</td>\n",
       "      <td>38</td>\n",
       "      <td>0</td>\n",
       "      <td>2360</td>\n",
       "      <td>39</td>\n",
       "      <td>285</td>\n",
       "      <td>18</td>\n",
       "      <td>3</td>\n",
       "      <td>1</td>\n",
       "      <td>1</td>\n",
       "      <td>30</td>\n",
       "      <td>1235.960</td>\n",
       "      <td>0</td>\n",
       "    </tr>\n",
       "    <tr>\n",
       "      <th>7</th>\n",
       "      <td>13</td>\n",
       "      <td>0</td>\n",
       "      <td>37</td>\n",
       "      <td>2</td>\n",
       "      <td>9115</td>\n",
       "      <td>121</td>\n",
       "      <td>144</td>\n",
       "      <td>43</td>\n",
       "      <td>3</td>\n",
       "      <td>1</td>\n",
       "      <td>1</td>\n",
       "      <td>30</td>\n",
       "      <td>945.440</td>\n",
       "      <td>0</td>\n",
       "    </tr>\n",
       "    <tr>\n",
       "      <th>8</th>\n",
       "      <td>7</td>\n",
       "      <td>0</td>\n",
       "      <td>38</td>\n",
       "      <td>0</td>\n",
       "      <td>13773</td>\n",
       "      <td>169</td>\n",
       "      <td>0</td>\n",
       "      <td>44</td>\n",
       "      <td>3</td>\n",
       "      <td>1</td>\n",
       "      <td>1</td>\n",
       "      <td>30</td>\n",
       "      <td>557.680</td>\n",
       "      <td>0</td>\n",
       "    </tr>\n",
       "    <tr>\n",
       "      <th>9</th>\n",
       "      <td>7</td>\n",
       "      <td>0</td>\n",
       "      <td>38</td>\n",
       "      <td>1</td>\n",
       "      <td>4515</td>\n",
       "      <td>83</td>\n",
       "      <td>2</td>\n",
       "      <td>25</td>\n",
       "      <td>3</td>\n",
       "      <td>1</td>\n",
       "      <td>1</td>\n",
       "      <td>30</td>\n",
       "      <td>191.920</td>\n",
       "      <td>0</td>\n",
       "    </tr>\n",
       "  </tbody>\n",
       "</table>\n",
       "</div>"
      ],
      "text/plain": [
       "   Call Failure  Complaints  Subscription Length  Charge Amount  \\\n",
       "0             8           0                   38              0   \n",
       "1             0           0                   39              0   \n",
       "2            10           0                   37              0   \n",
       "3            10           0                   38              0   \n",
       "4             3           0                   38              0   \n",
       "5            11           0                   38              1   \n",
       "6             4           0                   38              0   \n",
       "7            13           0                   37              2   \n",
       "8             7           0                   38              0   \n",
       "9             7           0                   38              1   \n",
       "\n",
       "   Seconds of Use  Frequency of use  Frequency of SMS  \\\n",
       "0            4370                71                 5   \n",
       "1             318                 5                 7   \n",
       "2            2453                60               359   \n",
       "3            4198                66                 1   \n",
       "4            2393                58                 2   \n",
       "5            3775                82                32   \n",
       "6            2360                39               285   \n",
       "7            9115               121               144   \n",
       "8           13773               169                 0   \n",
       "9            4515                83                 2   \n",
       "\n",
       "   Distinct Called Numbers  Age Group  Tariff Plan  Status  Age  \\\n",
       "0                       17          3            1       1   30   \n",
       "1                        4          2            1       2   25   \n",
       "2                       24          3            1       1   30   \n",
       "3                       35          1            1       1   15   \n",
       "4                       33          1            1       1   15   \n",
       "5                       28          3            1       1   30   \n",
       "6                       18          3            1       1   30   \n",
       "7                       43          3            1       1   30   \n",
       "8                       44          3            1       1   30   \n",
       "9                       25          3            1       1   30   \n",
       "\n",
       "   Customer Value  Churn  \n",
       "0         197.640      0  \n",
       "1          46.035      0  \n",
       "2        1536.520      0  \n",
       "3         240.020      0  \n",
       "4         145.805      0  \n",
       "5         282.280      0  \n",
       "6        1235.960      0  \n",
       "7         945.440      0  \n",
       "8         557.680      0  \n",
       "9         191.920      0  "
      ]
     },
     "execution_count": 36,
     "metadata": {},
     "output_type": "execute_result"
    }
   ],
   "source": [
    "df = pd.read_csv(\"TelecomCustomerChurn.csv\")\n",
    "\n",
    "df.head(10)"
   ]
  },
  {
   "cell_type": "markdown",
   "metadata": {},
   "source": [
    "🗺️ Explore: Which age groups send more SMS messages than make phone calls?\n",
    "\n",
    "📊 Visualize: Create a plot visualizing the number of distinct phone calls by age group. Within the chart, differentiate between short, medium, and long calls (by the number of seconds).\n",
    "\n",
    "🔎 Analyze: Are there significant differences between the length of phone calls between different tariff plans?"
   ]
  },
  {
   "cell_type": "code",
   "execution_count": 27,
   "metadata": {},
   "outputs": [
    {
     "data": {
      "text/html": [
       "<div>\n",
       "<style scoped>\n",
       "    .dataframe tbody tr th:only-of-type {\n",
       "        vertical-align: middle;\n",
       "    }\n",
       "\n",
       "    .dataframe tbody tr th {\n",
       "        vertical-align: top;\n",
       "    }\n",
       "\n",
       "    .dataframe thead th {\n",
       "        text-align: right;\n",
       "    }\n",
       "</style>\n",
       "<table border=\"1\" class=\"dataframe\">\n",
       "  <thead>\n",
       "    <tr style=\"text-align: right;\">\n",
       "      <th></th>\n",
       "      <th>Frequency of SMS</th>\n",
       "      <th>Distinct Called Numbers</th>\n",
       "    </tr>\n",
       "    <tr>\n",
       "      <th>Age Group</th>\n",
       "      <th></th>\n",
       "      <th></th>\n",
       "    </tr>\n",
       "  </thead>\n",
       "  <tbody>\n",
       "    <tr>\n",
       "      <th>1</th>\n",
       "      <td>18.193548</td>\n",
       "      <td>34.112903</td>\n",
       "    </tr>\n",
       "    <tr>\n",
       "      <th>2</th>\n",
       "      <td>77.630769</td>\n",
       "      <td>22.015385</td>\n",
       "    </tr>\n",
       "    <tr>\n",
       "      <th>3</th>\n",
       "      <td>87.448387</td>\n",
       "      <td>21.372581</td>\n",
       "    </tr>\n",
       "    <tr>\n",
       "      <th>4</th>\n",
       "      <td>31.490798</td>\n",
       "      <td>27.527607</td>\n",
       "    </tr>\n",
       "    <tr>\n",
       "      <th>5</th>\n",
       "      <td>22.222222</td>\n",
       "      <td>25.888889</td>\n",
       "    </tr>\n",
       "  </tbody>\n",
       "</table>\n",
       "</div>"
      ],
      "text/plain": [
       "           Frequency of SMS  Distinct Called Numbers\n",
       "Age Group                                           \n",
       "1                 18.193548                34.112903\n",
       "2                 77.630769                22.015385\n",
       "3                 87.448387                21.372581\n",
       "4                 31.490798                27.527607\n",
       "5                 22.222222                25.888889"
      ]
     },
     "execution_count": 27,
     "metadata": {},
     "output_type": "execute_result"
    }
   ],
   "source": [
    "df.groupby(\"Age Group\")[['Frequency of SMS', 'Distinct Called Numbers']].mean()"
   ]
  },
  {
   "cell_type": "markdown",
   "metadata": {},
   "source": [
    "🗺️ 2nd and 3rd age groups send drastically more SMS messages than make phone calls, and 4th group sends slighty more SMS messages than make phone calls. "
   ]
  },
  {
   "cell_type": "code",
   "execution_count": 28,
   "metadata": {},
   "outputs": [
    {
     "data": {
      "text/plain": [
       "<seaborn.axisgrid.FacetGrid at 0x21c87296d00>"
      ]
     },
     "execution_count": 28,
     "metadata": {},
     "output_type": "execute_result"
    },
    {
     "data": {
      "image/png": "[encoded data removed]",
      "text/plain": [
       "<Figure size 1080x216 with 5 Axes>"
      ]
     },
     "metadata": {
      "needs_background": "light"
     },
     "output_type": "display_data"
    }
   ],
   "source": [
    "grid = sns.FacetGrid(df, col = \"Age Group\")\n",
    "grid.map(sns.scatterplot, \"Distinct Called Numbers\", \"Seconds of Use\")"
   ]
  },
  {
   "cell_type": "markdown",
   "metadata": {},
   "source": [
    "📊 Visualize: We can see the distributions of the Distinct Called Numbers and the lengths of the conversations for each age group."
   ]
  },
  {
   "cell_type": "code",
   "execution_count": 29,
   "metadata": {},
   "outputs": [
    {
     "data": {
      "text/plain": [
       "1    1323\n",
       "2     105\n",
       "Name: Tariff Plan, dtype: int64"
      ]
     },
     "execution_count": 29,
     "metadata": {},
     "output_type": "execute_result"
    }
   ],
   "source": [
    "df['Tariff Plan'].value_counts()"
   ]
  },
  {
   "cell_type": "code",
   "execution_count": 30,
   "metadata": {},
   "outputs": [
    {
     "data": {
      "text/plain": [
       "Tariff Plan\n",
       "1    4296.509448\n",
       "2    5828.180952\n",
       "Name: Seconds of Use, dtype: float64"
      ]
     },
     "execution_count": 30,
     "metadata": {},
     "output_type": "execute_result"
    }
   ],
   "source": [
    "df.groupby(\"Tariff Plan\")['Seconds of Use'].mean()"
   ]
  },
  {
   "cell_type": "markdown",
   "metadata": {},
   "source": [
    "🔎 Analyze: Most of the clients use Tariff Plan 1, but the lengths of phone calls of clients who use Tariff Plan 2 are 35% longer on average."
   ]
  },
  {
   "cell_type": "markdown",
   "metadata": {},
   "source": [
    "# ML"
   ]
  },
  {
   "cell_type": "markdown",
   "metadata": {},
   "source": [
    "## EDA"
   ]
  },
  {
   "cell_type": "code",
   "execution_count": 126,
   "metadata": {},
   "outputs": [
    {
     "data": {
      "text/html": [
       "<div>\n",
       "<style scoped>\n",
       "    .dataframe tbody tr th:only-of-type {\n",
       "        vertical-align: middle;\n",
       "    }\n",
       "\n",
       "    .dataframe tbody tr th {\n",
       "        vertical-align: top;\n",
       "    }\n",
       "\n",
       "    .dataframe thead th {\n",
       "        text-align: right;\n",
       "    }\n",
       "</style>\n",
       "<table border=\"1\" class=\"dataframe\">\n",
       "  <thead>\n",
       "    <tr style=\"text-align: right;\">\n",
       "      <th></th>\n",
       "      <th>Call Failure</th>\n",
       "      <th>Complaints</th>\n",
       "      <th>Subscription Length</th>\n",
       "      <th>Charge Amount</th>\n",
       "      <th>Seconds of Use</th>\n",
       "      <th>Frequency of use</th>\n",
       "      <th>Frequency of SMS</th>\n",
       "      <th>Distinct Called Numbers</th>\n",
       "      <th>Age Group</th>\n",
       "      <th>Tariff Plan</th>\n",
       "      <th>Status</th>\n",
       "      <th>Age</th>\n",
       "      <th>Customer Value</th>\n",
       "      <th>Churn</th>\n",
       "    </tr>\n",
       "  </thead>\n",
       "  <tbody>\n",
       "    <tr>\n",
       "      <th>count</th>\n",
       "      <td>1428.000000</td>\n",
       "      <td>1428.000000</td>\n",
       "      <td>1428.000000</td>\n",
       "      <td>1428.000000</td>\n",
       "      <td>1428.000000</td>\n",
       "      <td>1428.000000</td>\n",
       "      <td>1428.000000</td>\n",
       "      <td>1428.000000</td>\n",
       "      <td>1428.000000</td>\n",
       "      <td>1428.000000</td>\n",
       "      <td>1428.000000</td>\n",
       "      <td>1428.000000</td>\n",
       "      <td>1428.000000</td>\n",
       "      <td>1428.000000</td>\n",
       "    </tr>\n",
       "    <tr>\n",
       "      <th>mean</th>\n",
       "      <td>6.288515</td>\n",
       "      <td>0.087535</td>\n",
       "      <td>32.161064</td>\n",
       "      <td>0.745798</td>\n",
       "      <td>4409.132353</td>\n",
       "      <td>68.169468</td>\n",
       "      <td>71.601541</td>\n",
       "      <td>23.061625</td>\n",
       "      <td>2.751401</td>\n",
       "      <td>1.073529</td>\n",
       "      <td>1.243697</td>\n",
       "      <td>30.343137</td>\n",
       "      <td>470.257892</td>\n",
       "      <td>0.163165</td>\n",
       "    </tr>\n",
       "    <tr>\n",
       "      <th>std</th>\n",
       "      <td>6.601328</td>\n",
       "      <td>0.282716</td>\n",
       "      <td>8.524295</td>\n",
       "      <td>1.403950</td>\n",
       "      <td>4198.846569</td>\n",
       "      <td>57.233236</td>\n",
       "      <td>112.737058</td>\n",
       "      <td>17.048646</td>\n",
       "      <td>0.875881</td>\n",
       "      <td>0.261095</td>\n",
       "      <td>0.429463</td>\n",
       "      <td>8.488909</td>\n",
       "      <td>525.525529</td>\n",
       "      <td>0.369646</td>\n",
       "    </tr>\n",
       "    <tr>\n",
       "      <th>min</th>\n",
       "      <td>0.000000</td>\n",
       "      <td>0.000000</td>\n",
       "      <td>3.000000</td>\n",
       "      <td>0.000000</td>\n",
       "      <td>0.000000</td>\n",
       "      <td>0.000000</td>\n",
       "      <td>0.000000</td>\n",
       "      <td>0.000000</td>\n",
       "      <td>1.000000</td>\n",
       "      <td>1.000000</td>\n",
       "      <td>1.000000</td>\n",
       "      <td>15.000000</td>\n",
       "      <td>0.000000</td>\n",
       "      <td>0.000000</td>\n",
       "    </tr>\n",
       "    <tr>\n",
       "      <th>25%</th>\n",
       "      <td>0.000000</td>\n",
       "      <td>0.000000</td>\n",
       "      <td>29.000000</td>\n",
       "      <td>0.000000</td>\n",
       "      <td>1362.250000</td>\n",
       "      <td>26.000000</td>\n",
       "      <td>1.000000</td>\n",
       "      <td>10.000000</td>\n",
       "      <td>2.000000</td>\n",
       "      <td>1.000000</td>\n",
       "      <td>1.000000</td>\n",
       "      <td>25.000000</td>\n",
       "      <td>109.545000</td>\n",
       "      <td>0.000000</td>\n",
       "    </tr>\n",
       "    <tr>\n",
       "      <th>50%</th>\n",
       "      <td>5.000000</td>\n",
       "      <td>0.000000</td>\n",
       "      <td>35.000000</td>\n",
       "      <td>0.000000</td>\n",
       "      <td>2917.500000</td>\n",
       "      <td>52.000000</td>\n",
       "      <td>18.000000</td>\n",
       "      <td>20.000000</td>\n",
       "      <td>3.000000</td>\n",
       "      <td>1.000000</td>\n",
       "      <td>1.000000</td>\n",
       "      <td>30.000000</td>\n",
       "      <td>223.697500</td>\n",
       "      <td>0.000000</td>\n",
       "    </tr>\n",
       "    <tr>\n",
       "      <th>75%</th>\n",
       "      <td>9.000000</td>\n",
       "      <td>0.000000</td>\n",
       "      <td>38.000000</td>\n",
       "      <td>1.000000</td>\n",
       "      <td>6420.000000</td>\n",
       "      <td>93.000000</td>\n",
       "      <td>85.250000</td>\n",
       "      <td>33.000000</td>\n",
       "      <td>3.000000</td>\n",
       "      <td>1.000000</td>\n",
       "      <td>1.000000</td>\n",
       "      <td>30.000000</td>\n",
       "      <td>787.950000</td>\n",
       "      <td>0.000000</td>\n",
       "    </tr>\n",
       "    <tr>\n",
       "      <th>max</th>\n",
       "      <td>31.000000</td>\n",
       "      <td>1.000000</td>\n",
       "      <td>45.000000</td>\n",
       "      <td>10.000000</td>\n",
       "      <td>16785.000000</td>\n",
       "      <td>249.000000</td>\n",
       "      <td>515.000000</td>\n",
       "      <td>95.000000</td>\n",
       "      <td>5.000000</td>\n",
       "      <td>2.000000</td>\n",
       "      <td>2.000000</td>\n",
       "      <td>55.000000</td>\n",
       "      <td>2165.280000</td>\n",
       "      <td>1.000000</td>\n",
       "    </tr>\n",
       "  </tbody>\n",
       "</table>\n",
       "</div>"
      ],
      "text/plain": [
       "       Call Failure   Complaints  Subscription Length  Charge Amount  \\\n",
       "count   1428.000000  1428.000000          1428.000000    1428.000000   \n",
       "mean       6.288515     0.087535            32.161064       0.745798   \n",
       "std        6.601328     0.282716             8.524295       1.403950   \n",
       "min        0.000000     0.000000             3.000000       0.000000   \n",
       "25%        0.000000     0.000000            29.000000       0.000000   \n",
       "50%        5.000000     0.000000            35.000000       0.000000   \n",
       "75%        9.000000     0.000000            38.000000       1.000000   \n",
       "max       31.000000     1.000000            45.000000      10.000000   \n",
       "\n",
       "       Seconds of Use  Frequency of use  Frequency of SMS  \\\n",
       "count     1428.000000       1428.000000       1428.000000   \n",
       "mean      4409.132353         68.169468         71.601541   \n",
       "std       4198.846569         57.233236        112.737058   \n",
       "min          0.000000          0.000000          0.000000   \n",
       "25%       1362.250000         26.000000          1.000000   \n",
       "50%       2917.500000         52.000000         18.000000   \n",
       "75%       6420.000000         93.000000         85.250000   \n",
       "max      16785.000000        249.000000        515.000000   \n",
       "\n",
       "       Distinct Called Numbers    Age Group  Tariff Plan       Status  \\\n",
       "count              1428.000000  1428.000000  1428.000000  1428.000000   \n",
       "mean                 23.061625     2.751401     1.073529     1.243697   \n",
       "std                  17.048646     0.875881     0.261095     0.429463   \n",
       "min                   0.000000     1.000000     1.000000     1.000000   \n",
       "25%                  10.000000     2.000000     1.000000     1.000000   \n",
       "50%                  20.000000     3.000000     1.000000     1.000000   \n",
       "75%                  33.000000     3.000000     1.000000     1.000000   \n",
       "max                  95.000000     5.000000     2.000000     2.000000   \n",
       "\n",
       "               Age  Customer Value        Churn  \n",
       "count  1428.000000     1428.000000  1428.000000  \n",
       "mean     30.343137      470.257892     0.163165  \n",
       "std       8.488909      525.525529     0.369646  \n",
       "min      15.000000        0.000000     0.000000  \n",
       "25%      25.000000      109.545000     0.000000  \n",
       "50%      30.000000      223.697500     0.000000  \n",
       "75%      30.000000      787.950000     0.000000  \n",
       "max      55.000000     2165.280000     1.000000  "
      ]
     },
     "execution_count": 126,
     "metadata": {},
     "output_type": "execute_result"
    }
   ],
   "source": [
    "df.describe()"
   ]
  },
  {
   "cell_type": "code",
   "execution_count": 127,
   "metadata": {},
   "outputs": [
    {
     "name": "stdout",
     "output_type": "stream",
     "text": [
      "<class 'pandas.core.frame.DataFrame'>\n",
      "RangeIndex: 1428 entries, 0 to 1427\n",
      "Data columns (total 14 columns):\n",
      " #   Column                   Non-Null Count  Dtype  \n",
      "---  ------                   --------------  -----  \n",
      " 0   Call Failure             1428 non-null   int64  \n",
      " 1   Complaints               1428 non-null   int64  \n",
      " 2   Subscription Length      1428 non-null   int64  \n",
      " 3   Charge Amount            1428 non-null   int64  \n",
      " 4   Seconds of Use           1428 non-null   int64  \n",
      " 5   Frequency of use         1428 non-null   int64  \n",
      " 6   Frequency of SMS         1428 non-null   int64  \n",
      " 7   Distinct Called Numbers  1428 non-null   int64  \n",
      " 8   Age Group                1428 non-null   int64  \n",
      " 9   Tariff Plan              1428 non-null   int64  \n",
      " 10  Status                   1428 non-null   int64  \n",
      " 11  Age                      1428 non-null   int64  \n",
      " 12  Customer Value           1428 non-null   float64\n",
      " 13  Churn                    1428 non-null   int64  \n",
      "dtypes: float64(1), int64(13)\n",
      "memory usage: 156.3 KB\n"
     ]
    }
   ],
   "source": [
    "df.info()"
   ]
  },
  {
   "cell_type": "markdown",
   "metadata": {},
   "source": [
    "Age Group, Tariff Plan, Status, Churn, Charge Amount and Complaints are categorical features. Other features are numerical. Also, there is not any null value."
   ]
  },
  {
   "cell_type": "markdown",
   "metadata": {},
   "source": [
    "Before creating ML model, we should see the relationships between the features and the target."
   ]
  },
  {
   "cell_type": "code",
   "execution_count": 128,
   "metadata": {},
   "outputs": [
    {
     "data": {
      "text/plain": [
       "<seaborn.axisgrid.FacetGrid at 0x21c9dccb250>"
      ]
     },
     "execution_count": 128,
     "metadata": {},
     "output_type": "execute_result"
    },
    {
     "data": {
      "image/png": "[encoded data removed]",
      "text/plain": [
       "<Figure size 432x216 with 2 Axes>"
      ]
     },
     "metadata": {
      "needs_background": "light"
     },
     "output_type": "display_data"
    }
   ],
   "source": [
    "g = sns.FacetGrid(df, col = \"Churn\")\n",
    "g.map(plt.hist, \"Age Group\", bins = 5)"
   ]
  },
  {
   "cell_type": "markdown",
   "metadata": {},
   "source": [
    "Most clients didn't churn and clients who are in the first and fifth age group didn't churn. We may want to add Age Group as a feature into our model. Because of the Age Group, I don't think Age will make any contribution to the model."
   ]
  },
  {
   "cell_type": "code",
   "execution_count": 129,
   "metadata": {},
   "outputs": [],
   "source": [
    "categorical = [\"Age Group\", \"Tariff Plan\", \"Status\", \"Charge Amount\", \"Complaints\"]"
   ]
  },
  {
   "cell_type": "code",
   "execution_count": 130,
   "metadata": {
    "scrolled": true
   },
   "outputs": [
    {
     "name": "stdout",
     "output_type": "stream",
     "text": [
      "Age Group\n",
      "1    0.000000\n",
      "2    0.192308\n",
      "3    0.161290\n",
      "4    0.196319\n",
      "5    0.015873\n",
      "Name: Churn, dtype: float64\n",
      "Tariff Plan\n",
      "1    0.172336\n",
      "2    0.047619\n",
      "Name: Churn, dtype: float64\n",
      "Status\n",
      "1    0.061111\n",
      "2    0.479885\n",
      "Name: Churn, dtype: float64\n",
      "Charge Amount\n",
      "0     0.218404\n",
      "1     0.098540\n",
      "2     0.059259\n",
      "3     0.016949\n",
      "4     0.000000\n",
      "5     0.000000\n",
      "6     0.000000\n",
      "7     0.000000\n",
      "8     0.000000\n",
      "9     0.000000\n",
      "10    0.000000\n",
      "Name: Churn, dtype: float64\n",
      "Complaints\n",
      "0    0.102072\n",
      "1    0.800000\n",
      "Name: Churn, dtype: float64\n"
     ]
    }
   ],
   "source": [
    "for i in categorical:\n",
    "    print(df.groupby(i)[\"Churn\"].mean())"
   ]
  },
  {
   "cell_type": "markdown",
   "metadata": {},
   "source": [
    "It is clearly seen that Status and Complaints are two strongly correlated features with the target. Interestingly Charge Amount has an impact on the target. Tariff Plan doesn't look so important to me."
   ]
  },
  {
   "cell_type": "code",
   "execution_count": 131,
   "metadata": {},
   "outputs": [],
   "source": [
    "numerical = [\"Call Failure\", \"Subscription Length\", \"Seconds of Use\", \"Frequency of use\", \"Frequency of SMS\", \"Distinct Called Numbers\", \"Customer Value\"]"
   ]
  },
  {
   "cell_type": "code",
   "execution_count": 132,
   "metadata": {},
   "outputs": [
    {
     "data": {
      "text/plain": [
       "Churn\n",
       "0    6.287866\n",
       "1    6.291845\n",
       "Name: Call Failure, dtype: float64"
      ]
     },
     "execution_count": 132,
     "metadata": {},
     "output_type": "execute_result"
    }
   ],
   "source": [
    "df.groupby(\"Churn\")[\"Call Failure\"].mean()"
   ]
  },
  {
   "cell_type": "code",
   "execution_count": 133,
   "metadata": {},
   "outputs": [
    {
     "name": "stdout",
     "output_type": "stream",
     "text": [
      "Churn\n",
      "0    6.287866\n",
      "1    6.291845\n",
      "Name: Call Failure, dtype: float64\n",
      "Churn\n",
      "0    32.281172\n",
      "1    31.545064\n",
      "Name: Subscription Length, dtype: float64\n",
      "Churn\n",
      "0    4966.136402\n",
      "1    1552.394850\n",
      "Name: Seconds of Use, dtype: float64\n",
      "Churn\n",
      "0    75.815063\n",
      "1    28.957082\n",
      "Name: Frequency of use, dtype: float64\n",
      "Churn\n",
      "0    82.389958\n",
      "1    16.270386\n",
      "Name: Frequency of SMS, dtype: float64\n",
      "Churn\n",
      "0    25.196653\n",
      "1    12.111588\n",
      "Name: Distinct Called Numbers, dtype: float64\n",
      "Churn\n",
      "0    536.368908\n",
      "1    131.190665\n",
      "Name: Customer Value, dtype: float64\n"
     ]
    }
   ],
   "source": [
    "for i in numerical:\n",
    "    print(df.groupby(\"Churn\")[i].mean())\n",
    "    "
   ]
  },
  {
   "cell_type": "markdown",
   "metadata": {},
   "source": [
    "I'll take Seconds of Use, Frequency of Use, Frequency of SMS, Distinct Called Numbers and Customer Value into model."
   ]
  },
  {
   "cell_type": "code",
   "execution_count": 134,
   "metadata": {},
   "outputs": [],
   "source": [
    "X = df[[\"Seconds of Use\", \"Frequency of use\", \"Frequency of SMS\", \"Distinct Called Numbers\", \"Customer Value\", \"Status\", \"Complaints\", \"Charge Amount\"]]\n",
    "\n",
    "y = df[[\"Churn\"]]"
   ]
  },
  {
   "cell_type": "code",
   "execution_count": 138,
   "metadata": {},
   "outputs": [
    {
     "data": {
      "text/plain": [
       "0.9417249417249417"
      ]
     },
     "execution_count": 138,
     "metadata": {},
     "output_type": "execute_result"
    }
   ],
   "source": [
    "import warnings\n",
    "warnings.filterwarnings(\"ignore\")\n",
    "\n",
    "from sklearn.ensemble import RandomForestClassifier\n",
    "from sklearn.model_selection import train_test_split\n",
    "from sklearn.metrics import accuracy_score, classification_report, confusion_matrix\n",
    "\n",
    "X_train, X_test, y_train, y_test = train_test_split(X, y, test_size = 0.3, random_state = 123)\n",
    "rf = RandomForestClassifier()\n",
    "\n",
    "rf.fit(X_train, y_train)\n",
    "\n",
    "predictions = rf.predict(X_test)\n",
    "\n",
    "accuracy_score(y_test, predictions)\n"
   ]
  },
  {
   "cell_type": "code",
   "execution_count": 139,
   "metadata": {},
   "outputs": [
    {
     "data": {
      "text/html": [
       "\n",
       "    <style>\n",
       "    table.eli5-weights tr:hover {\n",
       "        filter: brightness(85%);\n",
       "    }\n",
       "</style>\n",
       "\n",
       "\n",
       "\n",
       "    \n",
       "\n",
       "    \n",
       "\n",
       "    \n",
       "\n",
       "    \n",
       "\n",
       "    \n",
       "\n",
       "    \n",
       "\n",
       "\n",
       "    \n",
       "\n",
       "    \n",
       "\n",
       "    \n",
       "\n",
       "    \n",
       "\n",
       "    \n",
       "\n",
       "    \n",
       "\n",
       "\n",
       "    \n",
       "\n",
       "    \n",
       "\n",
       "    \n",
       "\n",
       "    \n",
       "\n",
       "    \n",
       "        <table class=\"eli5-weights eli5-feature-importances\" style=\"border-collapse: collapse; border: none; margin-top: 0em; table-layout: auto;\">\n",
       "    <thead>\n",
       "    <tr style=\"border: none;\">\n",
       "        <th style=\"padding: 0 1em 0 0.5em; text-align: right; border: none;\">Weight</th>\n",
       "        <th style=\"padding: 0 0.5em 0 0.5em; text-align: left; border: none;\">Feature</th>\n",
       "    </tr>\n",
       "    </thead>\n",
       "    <tbody>\n",
       "    \n",
       "        <tr style=\"background-color: hsl(120, 100.00%, 80.00%); border: none;\">\n",
       "            <td style=\"padding: 0 1em 0 0.5em; text-align: right; border: none;\">\n",
       "                0.0783\n",
       "                \n",
       "                    &plusmn; 0.0070\n",
       "                \n",
       "            </td>\n",
       "            <td style=\"padding: 0 0.5em 0 0.5em; text-align: left; border: none;\">\n",
       "                Complaints\n",
       "            </td>\n",
       "        </tr>\n",
       "    \n",
       "        <tr style=\"background-color: hsl(120, 100.00%, 85.04%); border: none;\">\n",
       "            <td style=\"padding: 0 1em 0 0.5em; text-align: right; border: none;\">\n",
       "                0.0517\n",
       "                \n",
       "                    &plusmn; 0.0116\n",
       "                \n",
       "            </td>\n",
       "            <td style=\"padding: 0 0.5em 0 0.5em; text-align: left; border: none;\">\n",
       "                Seconds of Use\n",
       "            </td>\n",
       "        </tr>\n",
       "    \n",
       "        <tr style=\"background-color: hsl(120, 100.00%, 89.38%); border: none;\">\n",
       "            <td style=\"padding: 0 1em 0 0.5em; text-align: right; border: none;\">\n",
       "                0.0317\n",
       "                \n",
       "                    &plusmn; 0.0152\n",
       "                \n",
       "            </td>\n",
       "            <td style=\"padding: 0 0.5em 0 0.5em; text-align: left; border: none;\">\n",
       "                Status\n",
       "            </td>\n",
       "        </tr>\n",
       "    \n",
       "        <tr style=\"background-color: hsl(120, 100.00%, 91.68%); border: none;\">\n",
       "            <td style=\"padding: 0 1em 0 0.5em; text-align: right; border: none;\">\n",
       "                0.0224\n",
       "                \n",
       "                    &plusmn; 0.0201\n",
       "                \n",
       "            </td>\n",
       "            <td style=\"padding: 0 0.5em 0 0.5em; text-align: left; border: none;\">\n",
       "                Frequency of use\n",
       "            </td>\n",
       "        </tr>\n",
       "    \n",
       "        <tr style=\"background-color: hsl(120, 100.00%, 91.80%); border: none;\">\n",
       "            <td style=\"padding: 0 1em 0 0.5em; text-align: right; border: none;\">\n",
       "                0.0219\n",
       "                \n",
       "                    &plusmn; 0.0183\n",
       "                \n",
       "            </td>\n",
       "            <td style=\"padding: 0 0.5em 0 0.5em; text-align: left; border: none;\">\n",
       "                Distinct Called Numbers\n",
       "            </td>\n",
       "        </tr>\n",
       "    \n",
       "        <tr style=\"background-color: hsl(120, 100.00%, 95.81%); border: none;\">\n",
       "            <td style=\"padding: 0 1em 0 0.5em; text-align: right; border: none;\">\n",
       "                0.0084\n",
       "                \n",
       "                    &plusmn; 0.0048\n",
       "                \n",
       "            </td>\n",
       "            <td style=\"padding: 0 0.5em 0 0.5em; text-align: left; border: none;\">\n",
       "                Frequency of SMS\n",
       "            </td>\n",
       "        </tr>\n",
       "    \n",
       "        <tr style=\"background-color: hsl(120, 100.00%, 96.31%); border: none;\">\n",
       "            <td style=\"padding: 0 1em 0 0.5em; text-align: right; border: none;\">\n",
       "                0.0070\n",
       "                \n",
       "                    &plusmn; 0.0051\n",
       "                \n",
       "            </td>\n",
       "            <td style=\"padding: 0 0.5em 0 0.5em; text-align: left; border: none;\">\n",
       "                Charge Amount\n",
       "            </td>\n",
       "        </tr>\n",
       "    \n",
       "        <tr style=\"background-color: hsl(120, 100.00%, 96.67%); border: none;\">\n",
       "            <td style=\"padding: 0 1em 0 0.5em; text-align: right; border: none;\">\n",
       "                0.0061\n",
       "                \n",
       "                    &plusmn; 0.0091\n",
       "                \n",
       "            </td>\n",
       "            <td style=\"padding: 0 0.5em 0 0.5em; text-align: left; border: none;\">\n",
       "                Customer Value\n",
       "            </td>\n",
       "        </tr>\n",
       "    \n",
       "    \n",
       "    </tbody>\n",
       "</table>\n",
       "    \n",
       "\n",
       "    \n",
       "\n",
       "\n",
       "    \n",
       "\n",
       "    \n",
       "\n",
       "    \n",
       "\n",
       "    \n",
       "\n",
       "    \n",
       "\n",
       "    \n",
       "\n",
       "\n",
       "\n"
      ],
      "text/plain": [
       "<IPython.core.display.HTML object>"
      ]
     },
     "execution_count": 139,
     "metadata": {},
     "output_type": "execute_result"
    }
   ],
   "source": [
    "import eli5\n",
    "from eli5.sklearn import PermutationImportance\n",
    "\n",
    "perm = PermutationImportance(rf, random_state=1).fit(X_test, y_test)\n",
    "eli5.show_weights(perm, feature_names = X_test.columns.tolist())"
   ]
  },
  {
   "cell_type": "markdown",
   "metadata": {},
   "source": [
    "Permutation importance shows that all features have positive effect on predictions. "
   ]
  }
 ],
 "metadata": {
  "kernelspec": {
   "display_name": "Python 3",
   "language": "python",
   "name": "python3"
  },
  "language_info": {
   "codemirror_mode": {
    "name": "ipython",
    "version": 3
   },
   "file_extension": ".py",
   "mimetype": "text/x-python",
   "name": "python",
   "nbconvert_exporter": "python",
   "pygments_lexer": "ipython3",
   "version": "3.8.5"
  }
 },
 "nbformat": 4,
 "nbformat_minor": 4
}
